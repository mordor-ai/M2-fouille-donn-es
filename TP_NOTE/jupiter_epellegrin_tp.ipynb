{
 "cells": [
  {
   "cell_type": "markdown",
   "source": [
    "# TP Denial of Service\n",
    "### emmanuel Pellegrin"
   ],
   "metadata": {
    "collapsed": false,
    "pycharm": {
     "name": "#%% md\n"
    }
   }
  },
  {
   "cell_type": "code",
   "execution_count": 17,
   "outputs": [],
   "source": [
    "import matplotlib.pyplot as plt\n",
    "import seaborn as sns\n",
    "%matplotlib inline\n",
    "from pyspark.sql import SparkSession"
   ],
   "metadata": {
    "collapsed": false,
    "pycharm": {
     "name": "#%%\n"
    }
   }
  },
  {
   "cell_type": "code",
   "execution_count": 18,
   "outputs": [],
   "source": [
    "spark = SparkSession.builder.appName(\"Python Spark\").getOrCreate()\n",
    "sc = spark.sparkContext"
   ],
   "metadata": {
    "collapsed": false,
    "pycharm": {
     "name": "#%%\n"
    }
   }
  },
  {
   "cell_type": "markdown",
   "source": [
    "# Chargement des données csv"
   ],
   "metadata": {
    "collapsed": false,
    "pycharm": {
     "name": "#%% md\n"
    }
   }
  },
  {
   "cell_type": "code",
   "execution_count": 19,
   "outputs": [],
   "source": [
    "df_ddos = spark.read\\\n",
    "    .option(\"delimiter\", \",\")\\\n",
    "    .option(\"header\", \"true\")\\\n",
    "    .option(\"inferSchema\", \"true\")\\\n",
    "    .csv('dataset.netflow')"
   ],
   "metadata": {
    "collapsed": false,
    "pycharm": {
     "name": "#%%\n"
    }
   }
  },
  {
   "cell_type": "markdown",
   "source": [
    "récupération des noms des colonnes"
   ],
   "metadata": {
    "collapsed": false,
    "pycharm": {
     "name": "#%% md\n"
    }
   }
  },
  {
   "cell_type": "code",
   "execution_count": 20,
   "outputs": [
    {
     "name": "stdout",
     "output_type": "stream",
     "text": [
      "root\n",
      " |-- Date flow start: string (nullable = true)\n",
      " |-- Durat: double (nullable = true)\n",
      " |-- Prot: string (nullable = true)\n",
      " |-- dir: string (nullable = true)\n",
      " |-- Flags: string (nullable = true)\n",
      " |-- Tos: double (nullable = true)\n",
      " |--   Packets: double (nullable = true)\n",
      " |-- Bytes: double (nullable = true)\n",
      " |-- Flows: double (nullable = true)\n",
      " |-- SourceIP: string (nullable = true)\n",
      " |-- SourcePort: string (nullable = true)\n",
      " |-- DestIP: string (nullable = true)\n",
      " |-- DestPort: string (nullable = true)\n",
      "\n"
     ]
    }
   ],
   "source": [
    "df_ddos.printSchema()"
   ],
   "metadata": {
    "collapsed": false,
    "pycharm": {
     "name": "#%%\n"
    }
   }
  },
  {
   "cell_type": "markdown",
   "source": [
    "### extraction des adresses  sources les plus fréquentes\n",
    "je veux afrficher une tableau des 50 adresses les plus actives"
   ],
   "metadata": {
    "collapsed": false,
    "pycharm": {
     "name": "#%% md\n"
    }
   }
  },
  {
   "cell_type": "code",
   "source": [
    "df_source_sum =(\n",
    "df_ddos.groupBy('SourceIP')\\\n",
    "               .count()\\\n",
    "               .sort('count', ascending=False).limit(10))\n",
    "df_source_sum.show()"
   ],
   "metadata": {
    "collapsed": false,
    "pycharm": {
     "name": "#%%\n"
    }
   },
   "execution_count": 26,
   "outputs": [
    {
     "name": "stdout",
     "output_type": "stream",
     "text": [
      "+-------------+------+\n",
      "|     SourceIP| count|\n",
      "+-------------+------+\n",
      "|147.32.84.229|821956|\n",
      "|  147.32.80.9|482639|\n",
      "| 147.32.84.59|449340|\n",
      "|147.32.84.138|223952|\n",
      "| 147.32.96.69|102535|\n",
      "|147.32.84.118| 53736|\n",
      "|147.32.86.116| 47220|\n",
      "| 147.32.85.25| 43420|\n",
      "|147.32.86.135| 42519|\n",
      "| 147.32.80.13| 41549|\n",
      "+-------------+------+\n",
      "\n"
     ]
    }
   ]
  },
  {
   "cell_type": "markdown",
   "source": [
    "### on affiche le barchart equvallent"
   ],
   "metadata": {
    "collapsed": false,
    "pycharm": {
     "name": "#%% md\n"
    }
   }
  },
  {
   "cell_type": "code",
   "execution_count": 27,
   "outputs": [
    {
     "data": {
      "text/plain": "<seaborn.axisgrid.FacetGrid at 0x7fc12a046340>"
     },
     "execution_count": 27,
     "metadata": {},
     "output_type": "execute_result"
    },
    {
     "data": {
      "text/plain": "<Figure size 360x360 with 1 Axes>",
      "image/png": "[encoded data removed]"
     },
     "metadata": {
      "needs_background": "light"
     },
     "output_type": "display_data"
    }
   ],
   "source": [
    "import seaborn as sns\n",
    "pd_sum = df_source_sum.toPandas()\n",
    "sns.catplot(x='SourceIP', y='count', data=pd_sum,\n",
    "            kind='bar', order=pd_sum['SourceIP'])\n",
    "\n"
   ],
   "metadata": {
    "collapsed": false,
    "pycharm": {
     "name": "#%%\n"
    }
   }
  },
  {
   "cell_type": "markdown",
   "source": [
    "### extraction des adresse destination les plus fréquentes"
   ],
   "metadata": {
    "collapsed": false,
    "pycharm": {
     "name": "#%% md\n"
    }
   }
  },
  {
   "cell_type": "code",
   "execution_count": 37,
   "outputs": [],
   "source": [
    "df_dest_sum = (df_ddos.groupBy('DestIP')\\\n",
    "            .count()\\\n",
    "            .sort('count', ascending=False).limit(20))"
   ],
   "metadata": {
    "collapsed": false,
    "pycharm": {
     "name": "#%%\n"
    }
   }
  },
  {
   "cell_type": "markdown",
   "source": [
    "je veux avoir la liste des top x des adresses de destinatio"
   ],
   "metadata": {
    "collapsed": false,
    "pycharm": {
     "name": "#%% md\n"
    }
   }
  },
  {
   "cell_type": "code",
   "execution_count": 38,
   "outputs": [
    {
     "name": "stdout",
     "output_type": "stream",
     "text": [
      "+-------------+------+\n",
      "|       DestIP| count|\n",
      "+-------------+------+\n",
      "|147.32.84.229|785569|\n",
      "|  147.32.80.9|483657|\n",
      "| 147.32.84.59|361143|\n",
      "|147.32.84.138|224358|\n",
      "| 147.32.96.69|215609|\n",
      "| 147.32.80.13| 67986|\n",
      "|147.32.86.116| 45606|\n",
      "| 147.32.85.25| 43424|\n",
      "| 147.32.85.26| 42873|\n",
      "|147.32.84.118| 30570|\n",
      "| 147.32.85.34| 28093|\n",
      "|147.32.86.135| 26754|\n",
      "| 147.32.84.68| 24815|\n",
      "|147.32.84.111| 20075|\n",
      "|147.32.86.165| 19075|\n",
      "|  147.32.85.8| 18830|\n",
      "|147.32.86.223| 18113|\n",
      "| 147.32.84.94| 17928|\n",
      "|147.32.84.170| 15088|\n",
      "| 76.13.114.90| 15087|\n",
      "+-------------+------+\n",
      "\n"
     ]
    }
   ],
   "source": [
    "df_dest_sum.show()"
   ],
   "metadata": {
    "collapsed": false,
    "pycharm": {
     "name": "#%%\n"
    }
   }
  },
  {
   "cell_type": "markdown",
   "source": [
    "on affiche les destinations qui sont le plus sollicités"
   ],
   "metadata": {
    "collapsed": false,
    "pycharm": {
     "name": "#%% md\n"
    }
   }
  },
  {
   "cell_type": "code",
   "execution_count": 39,
   "outputs": [
    {
     "data": {
      "text/plain": "<seaborn.axisgrid.FacetGrid at 0x7fc12de04b80>"
     },
     "execution_count": 39,
     "metadata": {},
     "output_type": "execute_result"
    },
    {
     "data": {
      "text/plain": "<Figure size 360x360 with 1 Axes>",
      "image/png": "[encoded data removed]"
     },
     "metadata": {
      "needs_background": "light"
     },
     "output_type": "display_data"
    }
   ],
   "source": [
    "import seaborn as sns\n",
    "pd_sum_dest = df_dest_sum.toPandas()\n",
    "sns.catplot(x='DestIP', y='count', data=pd_sum_dest,\n",
    "            kind='bar', order=pd_sum_dest['DestIP'])"
   ],
   "metadata": {
    "collapsed": false,
    "pycharm": {
     "name": "#%%\n"
    }
   }
  },
  {
   "cell_type": "markdown",
   "source": [
    "on remarque que c'est l'adresse 174.32.84.229 qui est le plus touché\n",
    "\n",
    "du coup je me focalise uniquement sur cette adresse en filtrant les logs"
   ],
   "metadata": {
    "collapsed": false,
    "pycharm": {
     "name": "#%% md\n"
    }
   }
  },
  {
   "cell_type": "code",
   "execution_count": 50,
   "outputs": [],
   "source": [
    "df_ddos_filtered = df_ddos.filter(df_ddos['DestIP']==\"147.32.84.229\")"
   ],
   "metadata": {
    "collapsed": false,
    "pycharm": {
     "name": "#%%\n"
    }
   }
  },
  {
   "cell_type": "code",
   "execution_count": 51,
   "outputs": [
    {
     "name": "stdout",
     "output_type": "stream",
     "text": [
      "+--------------------+-----+----+---+-----+---+---------+------+-----+---------------+----------+-------------+--------+\n",
      "|     Date flow start|Durat|Prot|dir|Flags|Tos|  Packets| Bytes|Flows|       SourceIP|SourcePort|       DestIP|DestPort|\n",
      "+--------------------+-----+----+---+-----+---+---------+------+-----+---------------+----------+-------------+--------+\n",
      "|2011-08-18 10:19:...|2.022| UDP| ->|  INT|0.0|      2.0| 354.0|  1.0|115.108.130.214|     54176|147.32.84.229|   13363|\n",
      "|2011-08-18 10:19:...|  0.0| UDP| ->|  INT|0.0|      1.0|  75.0|  1.0|  86.161.84.198|     31480|147.32.84.229|   13363|\n",
      "|2011-08-18 10:19:...|  0.0| UDP| ->|  INT|0.0|      1.0| 182.0|  1.0|213.155.227.215|     35316|147.32.84.229|   13363|\n",
      "|2011-08-18 10:19:...|3.827| TCP| ->|  PA_|0.0|      5.0| 853.0|  1.0| 147.213.68.141|      1040|147.32.84.229|   13363|\n",
      "|2011-08-18 10:19:...|0.417| UDP| ->|  INT|0.0|      2.0| 271.0|  1.0| 192.166.145.21|      1708|147.32.84.229|   13363|\n",
      "|2011-08-18 10:19:...|0.091| UDP| ->|  INT|0.0|      2.0| 141.0|  1.0|    81.81.67.46|     24210|147.32.84.229|   13363|\n",
      "|2011-08-18 10:19:...|  0.0| UDP| ->|  INT|0.0|      1.0|  76.0|  1.0|  116.50.166.74|     58467|147.32.84.229|   13363|\n",
      "|2011-08-18 10:19:...|2.637| TCP| ->|  PA_|0.0|      5.0|2820.0|  1.0|  41.130.235.95|     55043|147.32.84.229|   13363|\n",
      "|2011-08-18 10:19:...|0.129| TCP| ->|  PA_|0.0|      2.0| 150.0|  1.0| 212.239.26.199|     51572|147.32.84.229|   13363|\n",
      "|2011-08-18 10:19:...|0.097| TCP| ->|  PA_|0.0|      2.0| 120.0|  1.0| 77.127.196.107|      1126|147.32.84.229|     443|\n",
      "+--------------------+-----+----+---+-----+---+---------+------+-----+---------------+----------+-------------+--------+\n",
      "only showing top 10 rows\n",
      "\n"
     ]
    }
   ],
   "source": [
    "df_ddos_filtered.show(10)"
   ],
   "metadata": {
    "collapsed": false,
    "pycharm": {
     "name": "#%%\n"
    }
   }
  },
  {
   "cell_type": "markdown",
   "source": [
    "j'essaye de voir précisemment le top x des sources sur cette adresse"
   ],
   "metadata": {
    "collapsed": false,
    "pycharm": {
     "name": "#%% md\n"
    }
   }
  },
  {
   "cell_type": "code",
   "execution_count": 53,
   "outputs": [
    {
     "name": "stdout",
     "output_type": "stream",
     "text": [
      "+---------------+-----+\n",
      "|       SourceIP|count|\n",
      "+---------------+-----+\n",
      "| 85.115.136.209| 2536|\n",
      "|  195.187.155.2| 2188|\n",
      "|194.228.143.168| 1818|\n",
      "|   208.88.186.6| 1815|\n",
      "| 94.232.217.154| 1572|\n",
      "|  195.228.28.71| 1520|\n",
      "|  195.59.102.18| 1492|\n",
      "|213.155.227.215| 1443|\n",
      "|  87.197.101.95| 1367|\n",
      "|217.110.123.146| 1316|\n",
      "|  81.90.173.232| 1230|\n",
      "|195.122.213.179| 1099|\n",
      "| 88.255.232.197| 1010|\n",
      "|  147.122.45.75|  986|\n",
      "|    212.39.97.9|  947|\n",
      "|  82.208.45.106|  879|\n",
      "| 195.26.133.165|  872|\n",
      "|  82.79.199.104|  859|\n",
      "|   78.109.15.79|  838|\n",
      "|  143.169.4.196|  837|\n",
      "+---------------+-----+\n",
      "only showing top 20 rows\n",
      "\n"
     ]
    }
   ],
   "source": [
    "df_source_filtered_sum =(\n",
    "df_ddos_filtered.groupBy('SourceIP')\\\n",
    "               .count()\\\n",
    "               .sort('count', ascending=False).limit(50))\n",
    "df_source_filtered_sum.show()\n"
   ],
   "metadata": {
    "collapsed": false,
    "pycharm": {
     "name": "#%%\n"
    }
   }
  },
  {
   "cell_type": "markdown",
   "source": [
    "### j'affiche le diagramme des adresse IP qui se connectent à  l'IP 147.32.84.229"
   ],
   "metadata": {
    "collapsed": false,
    "pycharm": {
     "name": "#%% md\n"
    }
   }
  },
  {
   "cell_type": "code",
   "execution_count": 54,
   "outputs": [
    {
     "data": {
      "text/plain": "<seaborn.axisgrid.FacetGrid at 0x7fc12dceaac0>"
     },
     "execution_count": 54,
     "metadata": {},
     "output_type": "execute_result"
    },
    {
     "data": {
      "text/plain": "<Figure size 360x360 with 1 Axes>",
      "image/png": "[encoded data removed]"
     },
     "metadata": {
      "needs_background": "light"
     },
     "output_type": "display_data"
    }
   ],
   "source": [
    "import seaborn as sns\n",
    "pd_filtered_sum = df_source_filtered_sum.toPandas()\n",
    "sns.catplot(x='SourceIP', y='count', data=pd_filtered_sum,\n",
    "            kind='bar', order=pd_filtered_sum['SourceIP'])\n"
   ],
   "metadata": {
    "collapsed": false,
    "pycharm": {
     "name": "#%%\n"
    }
   }
  },
  {
   "cell_type": "code",
   "execution_count": 58,
   "outputs": [
    {
     "name": "stdout",
     "output_type": "stream",
     "text": [
      "+---------------+----------+\n",
      "|       SourceIP|sum(Bytes)|\n",
      "+---------------+----------+\n",
      "|217.110.123.146| 1465990.0|\n",
      "| 85.115.136.209| 1440912.0|\n",
      "|  195.59.102.18|  839294.0|\n",
      "|  128.141.37.11|  720684.0|\n",
      "|  195.187.155.2|  681628.0|\n",
      "|  146.193.52.17|  660316.0|\n",
      "|   208.88.186.6|  610247.0|\n",
      "|  87.197.101.95|  607324.0|\n",
      "|  195.228.28.71|  555759.0|\n",
      "|  81.191.93.173|  553306.0|\n",
      "|  147.122.45.75|  552896.0|\n",
      "|   78.109.15.79|  528438.0|\n",
      "| 212.24.132.190|  524885.0|\n",
      "| 195.26.133.165|  520011.0|\n",
      "|    212.39.97.9|  517335.0|\n",
      "| 88.255.232.197|  514119.0|\n",
      "|  140.78.116.98|  501957.0|\n",
      "|194.228.143.168|  501301.0|\n",
      "|  130.37.31.212|  411807.0|\n",
      "|   147.32.97.21|  392888.0|\n",
      "+---------------+----------+\n",
      "only showing top 20 rows\n",
      "\n"
     ]
    }
   ],
   "source": [
    "df_source_filtered_agg_sum =(df_ddos_filtered.groupBy('SourceIP')\\\n",
    "               .agg({'Bytes': 'sum'})\\\n",
    "               .sort('sum(Bytes)', ascending=False)\\\n",
    "                             .limit(50))\n",
    "df_source_filtered_agg_sum.show()"
   ],
   "metadata": {
    "collapsed": false,
    "pycharm": {
     "name": "#%% je regroupe par type de  port\n"
    }
   }
  },
  {
   "cell_type": "markdown",
   "source": [
    "encore une fois on visualise :"
   ],
   "metadata": {
    "collapsed": false,
    "pycharm": {
     "name": "#%% md\n"
    }
   }
  },
  {
   "cell_type": "code",
   "execution_count": 60,
   "outputs": [
    {
     "data": {
      "text/plain": "<seaborn.axisgrid.FacetGrid at 0x7fc12dd21a60>"
     },
     "execution_count": 60,
     "metadata": {},
     "output_type": "execute_result"
    },
    {
     "data": {
      "text/plain": "<Figure size 360x360 with 1 Axes>",
      "image/png": "[encoded data removed]"
     },
     "metadata": {
      "needs_background": "light"
     },
     "output_type": "display_data"
    }
   ],
   "source": [
    "import seaborn as sns\n",
    "pd_filtered_agg_sum = df_source_filtered_agg_sum.toPandas()\n",
    "sns.catplot(x='SourceIP', y='sum(Bytes)', data=pd_filtered_agg_sum,\n",
    "            kind='bar', order=pd_filtered_agg_sum['SourceIP'])\n"
   ],
   "metadata": {
    "collapsed": false,
    "pycharm": {
     "name": "#%%\n"
    }
   }
  }
 ],
 "metadata": {
  "kernelspec": {
   "display_name": "Python 3",
   "language": "python",
   "name": "python3"
  },
  "language_info": {
   "codemirror_mode": {
    "name": "ipython",
    "version": 2
   },
   "file_extension": ".py",
   "mimetype": "text/x-python",
   "name": "python",
   "nbconvert_exporter": "python",
   "pygments_lexer": "ipython2",
   "version": "2.7.6"
  }
 },
 "nbformat": 4,
 "nbformat_minor": 0
}