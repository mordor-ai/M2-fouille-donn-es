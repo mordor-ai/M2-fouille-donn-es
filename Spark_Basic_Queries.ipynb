{
  "nbformat": 4,
  "nbformat_minor": 0,
  "metadata": {
    "kernelspec": {
      "display_name": "Python 3",
      "language": "python",
      "name": "python3"
    },
    "language_info": {
      "codemirror_mode": {
        "name": "ipython",
        "version": 3
      },
      "file_extension": ".py",
      "mimetype": "text/x-python",
      "name": "python",
      "nbconvert_exporter": "python",
      "pygments_lexer": "ipython3",
      "version": "3.8.3"
    },
    "colab": {
      "name": "Spark - Basic Queries.ipynb",
      "provenance": [],
      "include_colab_link": true
    }
  },
  "cells": [
    {
      "cell_type": "markdown",
      "metadata": {
        "id": "view-in-github",
        "colab_type": "text"
      },
      "source": [
        "<a href=\"https://colab.research.google.com/github/mordor-ai/M2-fouille-donn-es/blob/master/Spark_Basic_Queries.ipynb\" target=\"_parent\"><img src=\"https://colab.research.google.com/assets/colab-badge.svg\" alt=\"Open In Colab\"/></a>"
      ]
    },
    {
      "cell_type": "markdown",
      "metadata": {
        "id": "ZJfgV136Y4yB",
        "colab_type": "text"
      },
      "source": [
        "# Importing Spark"
      ]
    },
    {
      "cell_type": "code",
      "metadata": {
        "id": "UvFEmOlHZSJ4",
        "colab_type": "code",
        "colab": {
          "base_uri": "https://localhost:8080/",
          "height": 258
        },
        "outputId": "c2dac036-23a9-433d-f66c-41bdb427c103"
      },
      "source": [
        "!pip install pyspark"
      ],
      "execution_count": 2,
      "outputs": [
        {
          "output_type": "stream",
          "text": [
            "Collecting pyspark\n",
            "\u001b[?25l  Downloading https://files.pythonhosted.org/packages/8e/b0/bf9020b56492281b9c9d8aae8f44ff51e1bc91b3ef5a884385cb4e389a40/pyspark-3.0.0.tar.gz (204.7MB)\n",
            "\u001b[K     |████████████████████████████████| 204.7MB 66kB/s \n",
            "\u001b[?25hCollecting py4j==0.10.9\n",
            "\u001b[?25l  Downloading https://files.pythonhosted.org/packages/9e/b6/6a4fb90cd235dc8e265a6a2067f2a2c99f0d91787f06aca4bcf7c23f3f80/py4j-0.10.9-py2.py3-none-any.whl (198kB)\n",
            "\u001b[K     |████████████████████████████████| 204kB 47.4MB/s \n",
            "\u001b[?25hBuilding wheels for collected packages: pyspark\n",
            "  Building wheel for pyspark (setup.py) ... \u001b[?25l\u001b[?25hdone\n",
            "  Created wheel for pyspark: filename=pyspark-3.0.0-py2.py3-none-any.whl size=205044184 sha256=759df76ecc090e7e1c70dee7aefa9d56045eef92ff95a2ac36544fb5a3ec053e\n",
            "  Stored in directory: /root/.cache/pip/wheels/57/27/4d/ddacf7143f8d5b76c45c61ee2e43d9f8492fc5a8e78ebd7d37\n",
            "Successfully built pyspark\n",
            "Installing collected packages: py4j, pyspark\n",
            "Successfully installed py4j-0.10.9 pyspark-3.0.0\n"
          ],
          "name": "stdout"
        }
      ]
    },
    {
      "cell_type": "code",
      "metadata": {
        "id": "MGYDnMFkY4yD",
        "colab_type": "code",
        "colab": {
          "base_uri": "https://localhost:8080/",
          "height": 368
        },
        "outputId": "4e678186-e09e-44b4-ad61-d9db35e5d6dd"
      },
      "source": [
        "\n",
        "import pyspark\n",
        "\n",
        "from pyspark import SparkContext\n",
        "from pyspark.sql import SparkSession\n",
        "\n",
        "sc = SparkContext.getOrCreate()\n",
        "spark = SparkSession.builder.appName(\"Python Spark\").getOrCreate()"
      ],
      "execution_count": 1,
      "outputs": [
        {
          "output_type": "error",
          "ename": "ModuleNotFoundError",
          "evalue": "ignored",
          "traceback": [
            "\u001b[0;31m---------------------------------------------------------------------------\u001b[0m",
            "\u001b[0;31mModuleNotFoundError\u001b[0m                       Traceback (most recent call last)",
            "\u001b[0;32m<ipython-input-1-fa7eb4142398>\u001b[0m in \u001b[0;36m<module>\u001b[0;34m()\u001b[0m\n\u001b[0;32m----> 1\u001b[0;31m \u001b[0;32mimport\u001b[0m \u001b[0mpyspark\u001b[0m\u001b[0;34m\u001b[0m\u001b[0;34m\u001b[0m\u001b[0m\n\u001b[0m\u001b[1;32m      2\u001b[0m \u001b[0;34m\u001b[0m\u001b[0m\n\u001b[1;32m      3\u001b[0m \u001b[0;32mfrom\u001b[0m \u001b[0mpyspark\u001b[0m \u001b[0;32mimport\u001b[0m \u001b[0mSparkContext\u001b[0m\u001b[0;34m\u001b[0m\u001b[0;34m\u001b[0m\u001b[0m\n\u001b[1;32m      4\u001b[0m \u001b[0;32mfrom\u001b[0m \u001b[0mpyspark\u001b[0m\u001b[0;34m.\u001b[0m\u001b[0msql\u001b[0m \u001b[0;32mimport\u001b[0m \u001b[0mSparkSession\u001b[0m\u001b[0;34m\u001b[0m\u001b[0;34m\u001b[0m\u001b[0m\n\u001b[1;32m      5\u001b[0m \u001b[0;34m\u001b[0m\u001b[0m\n",
            "\u001b[0;31mModuleNotFoundError\u001b[0m: No module named 'pyspark'",
            "",
            "\u001b[0;31m---------------------------------------------------------------------------\u001b[0;32m\nNOTE: If your import is failing due to a missing package, you can\nmanually install dependencies using either !pip or !apt.\n\nTo view examples of installing some common dependencies, click the\n\"Open Examples\" button below.\n\u001b[0;31m---------------------------------------------------------------------------\u001b[0m\n"
          ]
        }
      ]
    },
    {
      "cell_type": "markdown",
      "metadata": {
        "id": "dpUn-qpwY4yO",
        "colab_type": "text"
      },
      "source": [
        "# Loading the data"
      ]
    },
    {
      "cell_type": "code",
      "metadata": {
        "id": "jR5ku6S8Y4yQ",
        "colab_type": "code",
        "colab": {}
      },
      "source": [
        "df_ratings = spark.read\\\n",
        "    .option(\"delimiter\", \"\\t\")\\\n",
        "    .option(\"header\", \"true\")\\\n",
        "    .option(\"inferSchema\", \"true\")\\\n",
        "    .csv('data/u.data')"
      ],
      "execution_count": null,
      "outputs": []
    },
    {
      "cell_type": "code",
      "metadata": {
        "id": "RARsVefbY4yX",
        "colab_type": "code",
        "colab": {}
      },
      "source": [
        "# print the dataframe schema\n",
        "df_ratings.printSchema()"
      ],
      "execution_count": null,
      "outputs": []
    },
    {
      "cell_type": "code",
      "metadata": {
        "id": "KbNURUfvY4yd",
        "colab_type": "code",
        "colab": {}
      },
      "source": [
        "# show a sample of the data (the dataframe executes the whole pipeline at this stage)\n",
        "df_ratings.show(5)"
      ],
      "execution_count": null,
      "outputs": []
    },
    {
      "cell_type": "code",
      "metadata": {
        "id": "zCIG6wqLY4yi",
        "colab_type": "code",
        "colab": {}
      },
      "source": [
        "# set the rdd equivalent of the dataframe\n",
        "rdd_ratings = df_ratings.rdd"
      ],
      "execution_count": null,
      "outputs": []
    },
    {
      "cell_type": "markdown",
      "metadata": {
        "id": "Z9q8_rmQY4yl",
        "colab_type": "text"
      },
      "source": [
        "# Basic Queries"
      ]
    },
    {
      "cell_type": "markdown",
      "metadata": {
        "id": "jZymz42RY4yl",
        "colab_type": "text"
      },
      "source": [
        "#### Exercice 1 - Number of movies per user (using RDD then Dataframe)"
      ]
    },
    {
      "cell_type": "markdown",
      "metadata": {
        "id": "k4UO9PG5Y4ym",
        "colab_type": "text"
      },
      "source": [
        "Calculer pour chaque utilisateur le nombre de films notés, et afficher le résultat pour l'un d'entre eux. Utilisez dans un premier temps les RDD puis les Dataframes."
      ]
    },
    {
      "cell_type": "code",
      "metadata": {
        "id": "UC5R9mjNY4ym",
        "colab_type": "code",
        "colab": {}
      },
      "source": [
        "# classical RDD approach\n"
      ],
      "execution_count": null,
      "outputs": []
    },
    {
      "cell_type": "code",
      "metadata": {
        "id": "FA7IlYV2Y4yp",
        "colab_type": "code",
        "colab": {}
      },
      "source": [
        "# dataframe approach, filtering on the previous user to compare results\n"
      ],
      "execution_count": null,
      "outputs": []
    },
    {
      "cell_type": "markdown",
      "metadata": {
        "id": "LgFZ6O-xY4yr",
        "colab_type": "text"
      },
      "source": [
        "#### Exercice 2 - Average rating per user (using RDD then Dataframe)"
      ]
    },
    {
      "cell_type": "markdown",
      "metadata": {
        "id": "JQPRxn0xY4yr",
        "colab_type": "text"
      },
      "source": [
        "Calculer pour chaque utilisateurs la note moyenne donnée et afficher le résultat pour l'un d'entre eux. Utilisez dans un premier temps les RDD puis les Dataframes."
      ]
    },
    {
      "cell_type": "code",
      "metadata": {
        "id": "Uk8CblLAY4yr",
        "colab_type": "code",
        "colab": {}
      },
      "source": [
        "# classical RDD approach"
      ],
      "execution_count": null,
      "outputs": []
    },
    {
      "cell_type": "code",
      "metadata": {
        "id": "Ql_6fEXqY4yu",
        "colab_type": "code",
        "colab": {}
      },
      "source": [
        "# dataframe approach"
      ],
      "execution_count": null,
      "outputs": []
    },
    {
      "cell_type": "markdown",
      "metadata": {
        "id": "MDlbCbBFY4yw",
        "colab_type": "text"
      },
      "source": [
        "#### Exercice 3 - Top-5 movies with at least 15 votes (Dataframe)"
      ]
    },
    {
      "cell_type": "markdown",
      "metadata": {
        "id": "NuywA_kiY4yw",
        "colab_type": "text"
      },
      "source": [
        "Afficher les 5 meilleurs films parmi ceux qui ont reçu au moins 15 votes."
      ]
    },
    {
      "cell_type": "markdown",
      "metadata": {
        "id": "vW6184ttY4yx",
        "colab_type": "text"
      },
      "source": [
        "*Indices:*\n",
        "* Utiliser df_ratings pour calculer la moyenne, filtrer les films qui ont moins de 15 notes et classer les films par ordre décroissant.\n",
        "* Faire un join avec df_movies pour afficher le nom des films sélectionnés."
      ]
    },
    {
      "cell_type": "code",
      "metadata": {
        "id": "6nlD8M3EY4yx",
        "colab_type": "code",
        "colab": {}
      },
      "source": [
        "df_items = spark.read\\\n",
        "    .option(\"delimiter\", \"|\")\\\n",
        "    .option(\"header\", \"true\")\\\n",
        "    .option(\"inferSchema\", \"true\")\\\n",
        "    .csv('data/u.item')"
      ],
      "execution_count": null,
      "outputs": []
    },
    {
      "cell_type": "code",
      "metadata": {
        "id": "9d2ctXFSY4yy",
        "colab_type": "code",
        "colab": {}
      },
      "source": [
        ""
      ],
      "execution_count": null,
      "outputs": []
    },
    {
      "cell_type": "code",
      "metadata": {
        "id": "cZYa1inhY4y0",
        "colab_type": "code",
        "colab": {}
      },
      "source": [
        ""
      ],
      "execution_count": null,
      "outputs": []
    },
    {
      "cell_type": "code",
      "metadata": {
        "id": "8_K0zkuIY4y2",
        "colab_type": "code",
        "colab": {}
      },
      "source": [
        ""
      ],
      "execution_count": null,
      "outputs": []
    },
    {
      "cell_type": "code",
      "metadata": {
        "id": "XvfgnufyY4y3",
        "colab_type": "code",
        "colab": {}
      },
      "source": [
        ""
      ],
      "execution_count": null,
      "outputs": []
    }
  ]
}