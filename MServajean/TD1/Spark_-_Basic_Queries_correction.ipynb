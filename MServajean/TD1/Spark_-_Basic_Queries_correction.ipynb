{
  "nbformat": 4,
  "nbformat_minor": 0,
  "metadata": {
    "kernelspec": {
      "display_name": "Python 3",
      "language": "python",
      "name": "python3"
    },
    "language_info": {
      "codemirror_mode": {
        "name": "ipython",
        "version": 3
      },
      "file_extension": ".py",
      "mimetype": "text/x-python",
      "name": "python",
      "nbconvert_exporter": "python",
      "pygments_lexer": "ipython3",
      "version": "3.8.5"
    },
    "colab": {
      "name": "Spark_-_Basic_Queries_correction.ipynb",
      "provenance": []
    }
  },
  "cells": [
    {
      "cell_type": "markdown",
      "metadata": {
        "id": "O9524Z4iXHRZ"
      },
      "source": [
        "# Importing Spark"
      ]
    },
    {
      "cell_type": "code",
      "metadata": {
        "colab": {
          "base_uri": "https://localhost:8080/"
        },
        "id": "WvA6290MX7OY",
        "outputId": "5420fe27-d42d-4886-c0bf-393fee01a0b4"
      },
      "source": [
        "from google.colab import drive\r\n",
        "drive.mount('/content/drive')"
      ],
      "execution_count": 2,
      "outputs": [
        {
          "output_type": "stream",
          "text": [
            "Mounted at /content/drive\n"
          ],
          "name": "stdout"
        }
      ]
    },
    {
      "cell_type": "code",
      "metadata": {
        "colab": {
          "base_uri": "https://localhost:8080/"
        },
        "id": "giJ7siq1X17O",
        "outputId": "c4de9539-cae3-4195-bccb-9e0528f3cf9d"
      },
      "source": [
        "!pip install pyspark"
      ],
      "execution_count": 1,
      "outputs": [
        {
          "output_type": "stream",
          "text": [
            "Collecting pyspark\n",
            "\u001b[?25l  Downloading https://files.pythonhosted.org/packages/f0/26/198fc8c0b98580f617cb03cb298c6056587b8f0447e20fa40c5b634ced77/pyspark-3.0.1.tar.gz (204.2MB)\n",
            "\u001b[K     |████████████████████████████████| 204.2MB 61kB/s \n",
            "\u001b[?25hCollecting py4j==0.10.9\n",
            "\u001b[?25l  Downloading https://files.pythonhosted.org/packages/9e/b6/6a4fb90cd235dc8e265a6a2067f2a2c99f0d91787f06aca4bcf7c23f3f80/py4j-0.10.9-py2.py3-none-any.whl (198kB)\n",
            "\u001b[K     |████████████████████████████████| 204kB 43.2MB/s \n",
            "\u001b[?25hBuilding wheels for collected packages: pyspark\n",
            "  Building wheel for pyspark (setup.py) ... \u001b[?25l\u001b[?25hdone\n",
            "  Created wheel for pyspark: filename=pyspark-3.0.1-py2.py3-none-any.whl size=204612243 sha256=621a63c014b9647696bcd3b696c9265292dd189981603dd5289f9028dbe04744\n",
            "  Stored in directory: /root/.cache/pip/wheels/5e/bd/07/031766ca628adec8435bb40f0bd83bb676ce65ff4007f8e73f\n",
            "Successfully built pyspark\n",
            "Installing collected packages: py4j, pyspark\n",
            "Successfully installed py4j-0.10.9 pyspark-3.0.1\n"
          ],
          "name": "stdout"
        }
      ]
    },
    {
      "cell_type": "code",
      "metadata": {
        "id": "Vd1ffvUhXHRe"
      },
      "source": [
        "import pyspark\n",
        "\n",
        "from pyspark import SparkContext\n",
        "from pyspark.sql import SparkSession\n",
        "\n",
        "sc = SparkContext.getOrCreate()\n",
        "spark = SparkSession.builder.appName(\"Python Spark\").getOrCreate()"
      ],
      "execution_count": 3,
      "outputs": []
    },
    {
      "cell_type": "markdown",
      "metadata": {
        "id": "FZ8qW_duXHRo"
      },
      "source": [
        "# Loading the data"
      ]
    },
    {
      "cell_type": "code",
      "metadata": {
        "id": "VwzfWjq4XHRq"
      },
      "source": [
        "df_ratings = spark.read\\\n",
        "    .option(\"delimiter\", \"\\t\")\\\n",
        "    .option(\"header\", \"true\")\\\n",
        "    .option(\"inferSchema\", \"true\")\\\n",
        "    .csv('/content/drive/MyDrive/data/u.data')"
      ],
      "execution_count": 5,
      "outputs": []
    },
    {
      "cell_type": "code",
      "metadata": {
        "colab": {
          "base_uri": "https://localhost:8080/"
        },
        "id": "8Xsqds4eXHRr",
        "outputId": "5ad6a4a0-6cad-4ee8-d0c6-0d2b816c68ff"
      },
      "source": [
        "# print the dataframe schema\n",
        "df_ratings.printSchema()"
      ],
      "execution_count": 6,
      "outputs": [
        {
          "output_type": "stream",
          "text": [
            "root\n",
            " |-- user_id: integer (nullable = true)\n",
            " |-- item_id: integer (nullable = true)\n",
            " |-- rating: integer (nullable = true)\n",
            " |-- timestamp: integer (nullable = true)\n",
            "\n"
          ],
          "name": "stdout"
        }
      ]
    },
    {
      "cell_type": "code",
      "metadata": {
        "colab": {
          "base_uri": "https://localhost:8080/"
        },
        "id": "F0tyKs9YXHRt",
        "outputId": "2d3f4290-c9a6-4917-ace7-ee55bdeebfd3"
      },
      "source": [
        "# show a sample of the data (the dataframe executes the whole pipeline at this stage)\n",
        "df_ratings.show(5)"
      ],
      "execution_count": 8,
      "outputs": [
        {
          "output_type": "stream",
          "text": [
            "+-------+-------+------+---------+\n",
            "|user_id|item_id|rating|timestamp|\n",
            "+-------+-------+------+---------+\n",
            "|    196|    242|     3|881250949|\n",
            "|    186|    302|     3|891717742|\n",
            "|     22|    377|     1|878887116|\n",
            "|    244|     51|     2|880606923|\n",
            "|    166|    346|     1|886397596|\n",
            "+-------+-------+------+---------+\n",
            "only showing top 5 rows\n",
            "\n"
          ],
          "name": "stdout"
        }
      ]
    },
    {
      "cell_type": "code",
      "metadata": {
        "id": "-kylhyvMXHRu"
      },
      "source": [
        "# set the rdd equivalent of the dataframe\n",
        "rdd_ratings = df_ratings.rdd"
      ],
      "execution_count": 9,
      "outputs": []
    },
    {
      "cell_type": "markdown",
      "metadata": {
        "id": "3hzOQRp4XHRv"
      },
      "source": [
        "# Basic Queries"
      ]
    },
    {
      "cell_type": "markdown",
      "metadata": {
        "id": "SCWWEHjSXHR0"
      },
      "source": [
        "#### Exercice 1 - Number of movies per user (using RDD then Dataframe)"
      ]
    },
    {
      "cell_type": "markdown",
      "metadata": {
        "id": "JINU_349XHR3"
      },
      "source": [
        "Calculer pour chaque utilisateur le nombre de films notés, et afficher le résultat pour l'un d'entre eux. Utilisez dans un premier temps les RDD puis les Dataframes."
      ]
    },
    {
      "cell_type": "code",
      "metadata": {
        "colab": {
          "base_uri": "https://localhost:8080/"
        },
        "id": "ijOG2QjSXHR5",
        "outputId": "efad18b7-0c0d-457e-e659-1d20d648a8de"
      },
      "source": [
        "# classical RDD approach\n",
        "result_1 = rdd_ratings.map(lambda r: (r[0], 1)).reduceByKey(lambda v1, v2: v1 + v2).take(1)\n",
        "print(result_1)"
      ],
      "execution_count": 10,
      "outputs": [
        {
          "output_type": "stream",
          "text": [
            "[(196, 39)]\n"
          ],
          "name": "stdout"
        }
      ]
    },
    {
      "cell_type": "code",
      "metadata": {
        "colab": {
          "base_uri": "https://localhost:8080/"
        },
        "id": "awTHP5TwXHSN",
        "outputId": "5325dc0f-da4d-4f2a-b827-3a47d1f1b7cc"
      },
      "source": [
        "# dataframe approach, filtering on the previous user to compare results\n",
        "df_ratings.filter(df_ratings['user_id']==result_1[0][0])\\\n",
        "    .groupBy('user_id')\\\n",
        "    .count()\\\n",
        "    .show(1)"
      ],
      "execution_count": 11,
      "outputs": [
        {
          "output_type": "stream",
          "text": [
            "+-------+-----+\n",
            "|user_id|count|\n",
            "+-------+-----+\n",
            "|    196|   39|\n",
            "+-------+-----+\n",
            "\n"
          ],
          "name": "stdout"
        }
      ]
    },
    {
      "cell_type": "markdown",
      "metadata": {
        "id": "-854XpQ4XHSO"
      },
      "source": [
        "#### Exercice 2 - Average rating per user (using RDD then Dataframe)"
      ]
    },
    {
      "cell_type": "markdown",
      "metadata": {
        "id": "kw9bQz59XHSP"
      },
      "source": [
        "Calculer pour chaque utilisateurs la note moyenne donnée et afficher le résultat pour l'un d'entre eux. Utilisez dans un premier temps les RDD puis les Dataframes."
      ]
    },
    {
      "cell_type": "code",
      "metadata": {
        "colab": {
          "base_uri": "https://localhost:8080/"
        },
        "id": "vH6-Tk0YXHSP",
        "outputId": "f1272458-9c6b-4fe7-bc08-d6feff9424b1"
      },
      "source": [
        "# classical RDD approach\n",
        "rdd_map = rdd_ratings.map(lambda r: (r[0], int(r[2])))\n",
        "rdd_agg = rdd_map = rdd_map.aggregateByKey(\n",
        "    (0, 0), \n",
        "    lambda a,b: (a[0] + b,    a[1] + 1), \n",
        "    lambda a,b: (a[0] + b[0], a[1] + b[1])\n",
        ")\n",
        "\n",
        "rdd_result = rdd_agg.mapValues(lambda v: float(v[0])/v[1])\n",
        "\n",
        "result_1 = rdd_result.take(1)\n",
        "print(result_1)"
      ],
      "execution_count": 12,
      "outputs": [
        {
          "output_type": "stream",
          "text": [
            "[(196, 3.6153846153846154)]\n"
          ],
          "name": "stdout"
        }
      ]
    },
    {
      "cell_type": "code",
      "metadata": {
        "colab": {
          "base_uri": "https://localhost:8080/"
        },
        "id": "BhXaEFyXXHSQ",
        "outputId": "f7af1c2a-fc4c-45d2-bf6f-bf2e501a8d36"
      },
      "source": [
        "# dataframe approach\n",
        "from pyspark.sql.functions import avg\n",
        "\n",
        "df_ratings.filter(df_ratings['user_id']==result_1[0][0])\\\n",
        "    .groupBy('user_id')\\\n",
        "    .agg(avg('rating'))\\\n",
        "    .show(1)"
      ],
      "execution_count": 13,
      "outputs": [
        {
          "output_type": "stream",
          "text": [
            "+-------+------------------+\n",
            "|user_id|       avg(rating)|\n",
            "+-------+------------------+\n",
            "|    196|3.6153846153846154|\n",
            "+-------+------------------+\n",
            "\n"
          ],
          "name": "stdout"
        }
      ]
    },
    {
      "cell_type": "markdown",
      "metadata": {
        "id": "A95bT74TXHSW"
      },
      "source": [
        "#### Exercice 3 - Top-5 movies with at least 15 votes (Dataframe)"
      ]
    },
    {
      "cell_type": "markdown",
      "metadata": {
        "id": "UiX1EtXqXHSX"
      },
      "source": [
        "Afficher les 5 meilleurs films parmi ceux qui ont reçu au moins 15 votes."
      ]
    },
    {
      "cell_type": "markdown",
      "metadata": {
        "id": "BnCLvnllXHSY"
      },
      "source": [
        "*Indices:*\n",
        "* Utiliser df_ratings pour calculer la moyenne, filtrer les films qui ont moins de 15 notes et classer les films par ordre décroissant.\n",
        "* Faire un join avec df_movies pour afficher le nom des films sélectionnés."
      ]
    },
    {
      "cell_type": "code",
      "metadata": {
        "id": "n_hqjDjYXHSY"
      },
      "source": [
        "df_items = spark.read\\\n",
        "    .option(\"delimiter\", \"|\")\\\n",
        "    .option(\"header\", \"true\")\\\n",
        "    .option(\"inferSchema\", \"true\")\\\n",
        "    .csv('/content/drive/MyDrive/data/u.item')"
      ],
      "execution_count": 15,
      "outputs": []
    },
    {
      "cell_type": "code",
      "metadata": {
        "id": "LSjsyjbaXHSa"
      },
      "source": [
        "from pyspark.sql.functions import avg, count, col\n",
        "\n",
        "df_gb = df_ratings.groupBy('item_id')\\\n",
        "    .agg(avg('rating'), count('item_id').alias('count'))"
      ],
      "execution_count": 16,
      "outputs": []
    },
    {
      "cell_type": "code",
      "metadata": {
        "id": "f1tjH2JuXHSa"
      },
      "source": [
        "df_gb = df_gb.filter(df_gb['count'] >= 15).sort(\"avg(rating)\", ascending=False)"
      ],
      "execution_count": 17,
      "outputs": []
    },
    {
      "cell_type": "code",
      "metadata": {
        "id": "rDP4Ny59XHSb"
      },
      "source": [
        "# join with actual movie features\n",
        "df_join = df_gb.join(df_items, df_gb['item_id']==df_items['movie_id'])"
      ],
      "execution_count": 18,
      "outputs": []
    },
    {
      "cell_type": "code",
      "metadata": {
        "colab": {
          "base_uri": "https://localhost:8080/"
        },
        "id": "kw4dic4oXHSb",
        "outputId": "c685c0da-c3cb-4815-b999-d87bc46779dd"
      },
      "source": [
        "df_join.select(col(\"movie_title\"), col(\"avg(rating)\")).show(5)  # Java 8 (does not work with Java 12)"
      ],
      "execution_count": 19,
      "outputs": [
        {
          "output_type": "stream",
          "text": [
            "+--------------------+------------------+\n",
            "|         movie_title|       avg(rating)|\n",
            "+--------------------+------------------+\n",
            "|It's a Wonderful ...| 4.121212121212121|\n",
            "|Courage Under Fir...|3.6108597285067874|\n",
            "|Secret of Roan In...| 3.859154929577465|\n",
            "|Ghost and the Dar...|          3.203125|\n",
            "|  Bulletproof (1996)| 3.204081632653061|\n",
            "+--------------------+------------------+\n",
            "only showing top 5 rows\n",
            "\n"
          ],
          "name": "stdout"
        }
      ]
    },
    {
      "cell_type": "code",
      "metadata": {
        "id": "6rP8gSYaXHSc"
      },
      "source": [
        ""
      ],
      "execution_count": null,
      "outputs": []
    }
  ]
}