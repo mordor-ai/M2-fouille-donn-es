{
 "nbformat": 4,
 "nbformat_minor": 0,
 "metadata": {
  "kernelspec": {
   "display_name": "Python 3",
   "language": "python",
   "name": "python3"
  },
  "language_info": {
   "codemirror_mode": {
    "name": "ipython",
    "version": 3
   },
   "file_extension": ".py",
   "mimetype": "text/x-python",
   "name": "python",
   "nbconvert_exporter": "python",
   "pygments_lexer": "ipython3",
   "version": "3.8.3"
  },
  "colab": {
   "name": "Spark - Basic Queries.ipynb",
   "provenance": [],
   "toc_visible": true,
   "include_colab_link": true
  }
 },
 "cells": [
  {
   "cell_type": "markdown",
   "metadata": {
    "id": "view-in-github",
    "colab_type": "text"
   },
   "source": [
    "<a href=\"https://colab.research.google.com/github/mordor-ai/M2-fouille-donn-es/blob/master/MServajean/TD1/Spark_Basic_Queries.ipynb\" target=\"_parent\"><img src=\"https://colab.research.google.com/assets/colab-badge.svg\" alt=\"Open In Colab\"/></a>"
   ]
  },
  {
   "cell_type": "markdown",
   "metadata": {
    "id": "ZJfgV136Y4yB",
    "colab_type": "text"
   },
   "source": [
    "# Importing Spark"
   ]
  },
  {
   "cell_type": "code",
   "metadata": {
    "id": "UvFEmOlHZSJ4",
    "colab_type": "code",
    "colab": {
     "base_uri": "https://localhost:8080/",
     "height": 51
    },
    "outputId": "0a6a0add-2228-432a-b602-4911a4c870d1"
   },
   "source": [
    "!pip install pyspark"
   ],
   "execution_count": 1,
   "outputs": [
    {
     "output_type": "stream",
     "text": [
      "Requirement already satisfied: pyspark in /usr/local/lib/python3.6/dist-packages (3.0.0)\n",
      "Requirement already satisfied: py4j==0.10.9 in /usr/local/lib/python3.6/dist-packages (from pyspark) (0.10.9)\n"
     ],
     "name": "stdout"
    }
   ]
  },
  {
   "cell_type": "code",
   "metadata": {
    "id": "MGYDnMFkY4yD",
    "colab_type": "code",
    "colab": {}
   },
   "source": [
    "\n",
    "import pyspark\n",
    "\n",
    "from pyspark import SparkContext\n",
    "from pyspark.sql import SparkSession\n",
    "\n",
    "sc = SparkContext.getOrCreate()\n",
    "spark = SparkSession.builder.appName(\"Python Spark\").getOrCreate()"
   ],
   "execution_count": 3,
   "outputs": []
  },
  {
   "cell_type": "markdown",
   "metadata": {
    "id": "dpUn-qpwY4yO",
    "colab_type": "text"
   },
   "source": [
    "# Loading the data"
   ]
  },
  {
   "cell_type": "code",
   "metadata": {
    "id": "KDphofId3QY7",
    "colab_type": "code",
    "colab": {
     "base_uri": "https://localhost:8080/",
     "height": 105
    },
    "outputId": "08780a1a-81c0-4033-9305-a7d6f165a0b4"
   },
   "source": [
    "from google.colab import drive\n",
    "drive.mount('/content/drive')"
   ],
   "execution_count": null,
   "outputs": [
    {
     "output_type": "stream",
     "text": [
      "Go to this URL in a browser: https://accounts.google.com/o/oauth2/auth?client_id=947318989803-6bn6qk8qdgf4n4g3pfee6491hc0brc4i.apps.googleusercontent.com&redirect_uri=urn%3aietf%3awg%3aoauth%3a2.0%3aoob&scope=email%20https%3a%2f%2fwww.googleapis.com%2fauth%2fdocs.test%20https%3a%2f%2fwww.googleapis.com%2fauth%2fdrive%20https%3a%2f%2fwww.googleapis.com%2fauth%2fdrive.photos.readonly%20https%3a%2f%2fwww.googleapis.com%2fauth%2fpeopleapi.readonly&response_type=code\n",
      "\n",
      "Enter your authorization code:\n",
      "··········\n"
     ],
     "name": "stdout"
    }
   ]
  },
  {
   "cell_type": "code",
   "metadata": {
    "id": "jR5ku6S8Y4yQ",
    "colab_type": "code",
    "colab": {}
   },
   "source": [
    "df_ratings = spark.read\\\n",
    "    .option(\"delimiter\", \"\\t\")\\\n",
    "    .option(\"header\", \"true\")\\\n",
    "    .option(\"inferSchema\", \"true\")\\\n",
    "    .csv('./data/u.data')"
   ],
   "execution_count": 6,
   "outputs": []
  },
  {
   "cell_type": "code",
   "metadata": {
    "id": "RARsVefbY4yX",
    "colab_type": "code",
    "colab": {
     "base_uri": "https://localhost:8080/",
     "height": 119
    },
    "outputId": "635abb39-ec14-46f9-ad24-14065ddffe49"
   },
   "source": [
    "# print the dataframe schema\n",
    "df_ratings.printSchema()"
   ],
   "execution_count": 7,
   "outputs": [
    {
     "name": "stdout",
     "output_type": "stream",
     "text": [
      "root\n",
      " |-- user_id: integer (nullable = true)\n",
      " |-- item_id: integer (nullable = true)\n",
      " |-- rating: integer (nullable = true)\n",
      " |-- timestamp: integer (nullable = true)\n",
      "\n"
     ]
    }
   ]
  },
  {
   "cell_type": "code",
   "metadata": {
    "id": "KbNURUfvY4yd",
    "colab_type": "code",
    "colab": {
     "base_uri": "https://localhost:8080/",
     "height": 204
    },
    "outputId": "643e5842-9d05-4029-8c4f-7aa4e5d46e9e"
   },
   "source": [
    "# show a sample of the data (the dataframe executes the whole pipeline at this stage)\n",
    "df_ratings.show(5)"
   ],
   "execution_count": 8,
   "outputs": [
    {
     "name": "stdout",
     "output_type": "stream",
     "text": [
      "+-------+-------+------+---------+\n",
      "|user_id|item_id|rating|timestamp|\n",
      "+-------+-------+------+---------+\n",
      "|    196|    242|     3|881250949|\n",
      "|    186|    302|     3|891717742|\n",
      "|     22|    377|     1|878887116|\n",
      "|    244|     51|     2|880606923|\n",
      "|    166|    346|     1|886397596|\n",
      "+-------+-------+------+---------+\n",
      "only showing top 5 rows\n",
      "\n"
     ]
    }
   ]
  },
  {
   "cell_type": "code",
   "metadata": {
    "id": "zCIG6wqLY4yi",
    "colab_type": "code",
    "colab": {
     "base_uri": "https://localhost:8080/",
     "height": 272
    },
    "outputId": "4023c76f-49df-4e24-e750-e7b5734202dd"
   },
   "source": [
    "# set the rdd equivalent of the dataframe\n",
    "rdd_ratings = df_ratings.rdd\n",
    "rdd_ratings.take(15)"
   ],
   "execution_count": 9,
   "outputs": [
    {
     "data": {
      "text/plain": "[Row(user_id=196, item_id=242, rating=3, timestamp=881250949),\n Row(user_id=186, item_id=302, rating=3, timestamp=891717742),\n Row(user_id=22, item_id=377, rating=1, timestamp=878887116),\n Row(user_id=244, item_id=51, rating=2, timestamp=880606923),\n Row(user_id=166, item_id=346, rating=1, timestamp=886397596),\n Row(user_id=298, item_id=474, rating=4, timestamp=884182806),\n Row(user_id=115, item_id=265, rating=2, timestamp=881171488),\n Row(user_id=253, item_id=465, rating=5, timestamp=891628467),\n Row(user_id=305, item_id=451, rating=3, timestamp=886324817),\n Row(user_id=6, item_id=86, rating=3, timestamp=883603013),\n Row(user_id=62, item_id=257, rating=2, timestamp=879372434),\n Row(user_id=286, item_id=1014, rating=5, timestamp=879781125),\n Row(user_id=200, item_id=222, rating=5, timestamp=876042340),\n Row(user_id=210, item_id=40, rating=3, timestamp=891035994),\n Row(user_id=224, item_id=29, rating=3, timestamp=888104457)]"
     },
     "execution_count": 9,
     "metadata": {},
     "output_type": "execute_result"
    }
   ]
  },
  {
   "cell_type": "markdown",
   "metadata": {
    "id": "Z9q8_rmQY4yl",
    "colab_type": "text"
   },
   "source": [
    "# Basic Queries"
   ]
  },
  {
   "cell_type": "markdown",
   "metadata": {
    "id": "jZymz42RY4yl",
    "colab_type": "text"
   },
   "source": [
    "#### Exercice 1 - Number of movies per user (using RDD then Dataframe)"
   ]
  },
  {
   "cell_type": "markdown",
   "metadata": {
    "id": "k4UO9PG5Y4ym",
    "colab_type": "text"
   },
   "source": [
    "Calculer pour chaque utilisateur le nombre de films notés, et afficher le résultat pour l'un d'entre eux. Utilisez dans un premier temps les RDD puis les Dataframes."
   ]
  },
  {
   "cell_type": "code",
   "metadata": {
    "id": "UC5R9mjNY4ym",
    "colab_type": "code",
    "colab": {}
   },
   "source": [
    "# classical RDD approach\n",
    "\n",
    "def map_function(row):\n",
    "  #print row(row.user_id)\n",
    "  return row.user_id ,1\n",
    "# on récupère le calcul count pour le premier user\n",
    "# reduceByKey :  recupère deux tuples ayant les mêmes clefs et les additionne\n",
    "u = rdd_ratings.map(map_function).reduceByKey(lambda v1, v2 :v1+v2).take(1)"
   ],
   "execution_count": 12,
   "outputs": []
  },
  {
   "cell_type": "code",
   "metadata": {
    "id": "FA7IlYV2Y4yp",
    "colab_type": "code",
    "colab": {}
   },
   "source": [
    "# dataframe approach, filtering on the previous user to compare results\n",
    "# u[0][0] est le premier utilisateur\n",
    "df_ratings.filter(df_ratings.user_id== u[0][0]).groupBy('user_id').count().show()\n"
   ],
   "execution_count": 13,
   "outputs": [
    {
     "name": "stdout",
     "output_type": "stream",
     "text": [
      "+-------+-----+\n",
      "|user_id|count|\n",
      "+-------+-----+\n",
      "|    196|   39|\n",
      "+-------+-----+\n",
      "\n"
     ]
    }
   ]
  },
  {
   "cell_type": "markdown",
   "metadata": {
    "id": "LgFZ6O-xY4yr",
    "colab_type": "text"
   },
   "source": [
    "#### Exercice 2 - Average rating per user (using RDD then Dataframe)"
   ]
  },
  {
   "cell_type": "markdown",
   "metadata": {
    "id": "JQPRxn0xY4yr",
    "colab_type": "text"
   },
   "source": [
    "Calculer pour chaque utilisateurs la note moyenne donnée et afficher le résultat pour l'un d'entre eux. Utilisez dans un premier temps les RDD puis les Dataframes."
   ]
  },
  {
   "cell_type": "code",
   "metadata": {
    "id": "Uk8CblLAY4yr",
    "colab_type": "code",
    "colab": {}
   },
   "source": [
    "# classical RDD approach\n",
    "rdd_temp = rdd_ratings.map(lambda : r: (r[0],r[2])).aggregateByKey((0,0), lambda a,b: (a[0]+b,a[1]+1),\n",
    "                                                        lambda a,b: (a[0]+b[0],a[1]+b[1]))\n",
    "rdd_temp.mapValues(lambda v: v[0]/v[1] ).take(5)"
   ],
   "execution_count": null,
   "outputs": []
  },
  {
   "cell_type": "code",
   "metadata": {
    "id": "Ql_6fEXqY4yu",
    "colab_type": "code",
    "colab": {}
   },
   "source": [
    "# dataframe approach\n",
    "df_ratings.groupBy('user_id').mean('rating').show()"
   ],
   "execution_count": 14,
   "outputs": [
    {
     "name": "stdout",
     "output_type": "stream",
     "text": [
      "+-------+------------------+\n",
      "|user_id|       avg(rating)|\n",
      "+-------+------------------+\n",
      "|    148|               4.0|\n",
      "|    463|2.8646616541353382|\n",
      "|    471|3.3870967741935485|\n",
      "|    496|3.0310077519379846|\n",
      "|    833| 3.056179775280899|\n",
      "|    243|3.6419753086419755|\n",
      "|    392| 4.045045045045045|\n",
      "|    540|3.7142857142857144|\n",
      "|    623|3.7333333333333334|\n",
      "|    737|3.9696969696969697|\n",
      "|    858|3.4285714285714284|\n",
      "|    897| 3.962162162162162|\n",
      "|     31|3.9166666666666665|\n",
      "|    516| 4.095238095238095|\n",
      "|    251| 3.792207792207792|\n",
      "|     85|3.5381944444444446|\n",
      "|    137| 4.319148936170213|\n",
      "|    451|2.7346938775510203|\n",
      "|    580|3.5531914893617023|\n",
      "|    808| 4.130434782608695|\n",
      "+-------+------------------+\n",
      "only showing top 20 rows\n",
      "\n"
     ]
    }
   ]
  },
  {
   "cell_type": "markdown",
   "metadata": {
    "id": "MDlbCbBFY4yw",
    "colab_type": "text"
   },
   "source": [
    "#### Exercice 3 - Top-5 movies with at least 15 votes (Dataframe)"
   ]
  },
  {
   "cell_type": "markdown",
   "metadata": {
    "id": "NuywA_kiY4yw",
    "colab_type": "text"
   },
   "source": [
    "Afficher les 5 meilleurs films parmi ceux qui ont reçu au moins 15 votes."
   ]
  },
  {
   "cell_type": "markdown",
   "metadata": {
    "id": "vW6184ttY4yx",
    "colab_type": "text"
   },
   "source": [
    "*Indices:*\n",
    "* Utiliser df_ratings pour calculer la moyenne, filtrer les films qui ont moins de 15 notes et classer les films par ordre décroissant.\n",
    "* Faire un join avec df_movies pour afficher le nom des films sélectionnés."
   ]
  },
  {
   "cell_type": "code",
   "metadata": {
    "id": "6nlD8M3EY4yx",
    "colab_type": "code",
    "colab": {}
   },
   "source": [
    "df_items = spark.read\\\n",
    "    .option(\"delimiter\", \"|\")\\\n",
    "    .option(\"header\", \"true\")\\\n",
    "    .option(\"inferSchema\", \"true\")\\\n",
    "    .csv('data/u.item')"
   ],
   "execution_count": 15,
   "outputs": []
  },
  {
   "cell_type": "code",
   "metadata": {
    "id": "9d2ctXFSY4yy",
    "colab_type": "code",
    "colab": {}
   },
   "source": [
    "df = df_items[['movie_id','movie_title']].join(df_ratings, df_items.movie)"
   ],
   "execution_count": null,
   "outputs": []
  },
  {
   "cell_type": "code",
   "metadata": {
    "id": "cZYa1inhY4y0",
    "colab_type": "code",
    "colab": {}
   },
   "source": [
    "## mauvaise apoproche :  car on fait un join sur tous les\n",
    "from pyspark.sql.functions import  import first,mean,count\n",
    "df2 =  df.groupBy('movie_id'). agg( mean('rating').alias('rating'),\n",
    "                                    count('movie_id').alias('c'),\n",
    "                                    first('movie_title'))\n",
    "df2.filter(df2.c>=15).sort('rating',ascending= True).show()\n",
    "\n"
   ],
   "execution_count": null,
   "outputs": []
  },
  {
   "cell_type": "code",
   "metadata": {
    "id": "8_K0zkuIY4y2",
    "colab_type": "code",
    "colab": {}
   },
   "source": [
    "## meilleur apporche:\n",
    "df_gb = df_ratings.groupBy('item_id')\\\n",
    "                    .agg(avg('rating'), count('item_id').alias('count'))\n"
   ],
   "execution_count": null,
   "outputs": []
  },
  {
   "cell_type": "code",
   "metadata": {
    "id": "XvfgnufyY4y3",
    "colab_type": "code",
    "colab": {}
   },
   "source": [
    "df_gb = df_gb.filter(df_gbn['count']>=15).sort(\"avg(rating)\", ascending=  True)\n",
    "df_join = df_gb.join(df_items)\n"
   ],
   "execution_count": null,
   "outputs": []
  }
 ]
}