{
 "cells": [
  {
   "cell_type": "markdown",
   "metadata": {},
   "source": [
    "# Importing Spark"
   ]
  },
  {
   "cell_type": "code",
   "execution_count": 13,
   "metadata": {},
   "outputs": [],
   "source": [
    "# import findspark\n",
    "# findspark.init()\n",
    "import pyspark\n",
    "from pyspark.sql import SparkSession\n",
    "\n",
    "spark = SparkSession.builder.appName(\"Python Spark\").getOrCreate()\n",
    "sc = spark.sparkContext"
   ]
  },
  {
   "cell_type": "markdown",
   "metadata": {},
   "source": [
    "# Loading the data"
   ]
  },
  {
   "cell_type": "code",
   "execution_count": 14,
   "metadata": {},
   "outputs": [],
   "source": [
    "df_ratings = spark.read\\\n",
    "    .option(\"delimiter\", \"\\t\")\\\n",
    "    .option(\"header\", \"true\")\\\n",
    "    .option(\"inferSchema\", \"true\")\\\n",
    "    .csv('data/u.data')"
   ]
  },
  {
   "cell_type": "markdown",
   "metadata": {},
   "source": [
    "# Exercice 1 - constructing the recommender system"
   ]
  },
  {
   "cell_type": "code",
   "execution_count": 15,
   "metadata": {},
   "outputs": [],
   "source": [
    "from pyspark.ml.evaluation import RegressionEvaluator\n",
    "from pyspark.ml.recommendation import ALS"
   ]
  },
  {
   "cell_type": "code",
   "execution_count": 16,
   "metadata": {},
   "outputs": [
    {
     "name": "stdout",
     "output_type": "stream",
     "text": [
      "root\n",
      " |-- user_id: integer (nullable = true)\n",
      " |-- item_id: integer (nullable = true)\n",
      " |-- rating: integer (nullable = true)\n",
      " |-- timestamp: integer (nullable = true)\n",
      "\n"
     ]
    }
   ],
   "source": [
    "df_ratings.printSchema()"
   ]
  },
  {
   "cell_type": "code",
   "execution_count": 17,
   "metadata": {},
   "outputs": [
    {
     "name": "stdout",
     "output_type": "stream",
     "text": [
      "+-------+-------+------+---------+\n",
      "|user_id|item_id|rating|timestamp|\n",
      "+-------+-------+------+---------+\n",
      "|      1|      2|     3|876893171|\n",
      "|      1|      5|     3|889751712|\n",
      "|      1|      6|     5|887431973|\n",
      "|      1|      7|     4|875071561|\n",
      "|      1|      9|     5|878543541|\n",
      "|      1|     10|     3|875693118|\n",
      "|      1|     11|     2|875072262|\n",
      "|      1|     13|     5|875071805|\n",
      "|      1|     14|     5|874965706|\n",
      "|      1|     16|     5|878543541|\n",
      "|      1|     17|     3|875073198|\n",
      "|      1|     20|     4|887431883|\n",
      "|      1|     21|     1|878542772|\n",
      "|      1|     23|     4|875072895|\n",
      "|      1|     24|     3|875071713|\n",
      "|      1|     25|     4|875071805|\n",
      "|      1|     26|     3|875072442|\n",
      "|      1|     27|     2|876892946|\n",
      "|      1|     28|     4|875072173|\n",
      "|      1|     30|     3|878542515|\n",
      "+-------+-------+------+---------+\n",
      "only showing top 20 rows\n",
      "\n",
      "+-------+-------+------+---------+\n",
      "|user_id|item_id|rating|timestamp|\n",
      "+-------+-------+------+---------+\n",
      "|      1|      1|     5|874965758|\n",
      "|      1|      3|     4|878542960|\n",
      "|      1|      4|     3|876893119|\n",
      "|      1|      8|     1|875072484|\n",
      "|      1|     12|     5|878542960|\n",
      "|      1|     15|     5|875071608|\n",
      "|      1|     18|     4|887432020|\n",
      "|      1|     19|     5|875071515|\n",
      "|      1|     22|     4|875072404|\n",
      "|      1|     29|     1|878542869|\n",
      "|      1|     31|     3|875072144|\n",
      "|      1|     36|     2|875073180|\n",
      "|      1|     38|     3|878543075|\n",
      "|      1|     43|     4|878542869|\n",
      "|      1|     48|     5|875072520|\n",
      "|      1|     62|     3|878542282|\n",
      "|      1|     70|     3|875072895|\n",
      "|      1|     82|     5|878542589|\n",
      "|      1|     99|     3|875072547|\n",
      "|      1|    110|     1|878542845|\n",
      "+-------+-------+------+---------+\n",
      "only showing top 20 rows\n",
      "\n"
     ]
    }
   ],
   "source": [
    "# split\n",
    "training, test = df_ratings.randomSplit([0.8, 0.2])\n",
    "training.show()\n",
    "test.show()"
   ]
  },
  {
   "cell_type": "code",
   "execution_count": 24,
   "metadata": {},
   "outputs": [],
   "source": [
    "# fit ALS\n",
    "als = ALS(maxIter=5,regParam=0.05, userCol=\"user_id\", itemCol=\"item_id\", ratingCol=\"rating\",\n",
    "          coldStartStrategy=\"drop\",rank=10)\n",
    "# nombre de lignes ou colonnes\n",
    "model = als.fit(training)\n"
   ]
  },
  {
   "cell_type": "code",
   "execution_count": 25,
   "metadata": {},
   "outputs": [
    {
     "name": "stdout",
     "output_type": "stream",
     "text": [
      "+-------+-------+------+---------+----------+\n",
      "|user_id|item_id|rating|timestamp|prediction|\n",
      "+-------+-------+------+---------+----------+\n",
      "|    330|    148|     4|876544781|  4.521793|\n",
      "|    224|    148|     3|888104154| 3.1988578|\n",
      "|      1|    148|     2|875240799| 2.6778774|\n",
      "|     15|    148|     3|879456049| 2.4196055|\n",
      "|    677|    148|     4|889399265|   4.22349|\n",
      "+-------+-------+------+---------+----------+\n",
      "only showing top 5 rows\n",
      "\n"
     ]
    }
   ],
   "source": [
    "# evaluate\n",
    "predictions = model.transform(test)\n",
    "predictions.show(5)"
   ]
  },
  {
   "cell_type": "code",
   "execution_count": 29,
   "metadata": {},
   "outputs": [
    {
     "name": "stdout",
     "output_type": "stream",
     "text": [
      "0.9587225479306362\n"
     ]
    }
   ],
   "source": [
    "from pyspark.ml.evaluation import RegressionEvaluator\n",
    "#RegressionEvaluator\n",
    "evaluator = RegressionEvaluator().setLabelCol('rating').setPredictionCol('prediction').setMetricName('rmse')\n",
    "#evaluator = RegressionEvaluator(\n",
    " #          metricName=\"areaUnderROC\",\n",
    " #          labelCol=\"rating\",\n",
    " #          predictionCol=\"prediction\")\n",
    "\n",
    "\n",
    "RMSE = evaluator.evaluate(predictions)\n",
    "print(RMSE)"
   ]
  },
  {
   "cell_type": "code",
   "execution_count": null,
   "metadata": {},
   "outputs": [],
   "source": [
    "# Generate top 10 movie recommendations for each user\n",
    "# Generate top 10 user recommendations for each movie\n",
    "model.recommendForAllUsers(10)\n",
    "model.recommendForAllItems(10)"
   ]
  },
  {
   "cell_type": "code",
   "execution_count": 43,
   "metadata": {},
   "outputs": [
    {
     "name": "stdout",
     "output_type": "stream",
     "text": [
      "+---+--------------------+\n",
      "| id|            features|\n",
      "+---+--------------------+\n",
      "| 50|[0.1671989, 0.132...|\n",
      "+---+--------------------+\n",
      "\n",
      "+---+--------------------+\n",
      "| id|            features|\n",
      "+---+--------------------+\n",
      "|100|[-0.5522704, -0.1...|\n",
      "+---+--------------------+\n",
      "\n"
     ]
    },
    {
     "ename": "AttributeError",
     "evalue": "'DataFrame' object has no attribute 'flatten'",
     "output_type": "error",
     "traceback": [
      "\u001B[0;31m---------------------------------------------------------------------------\u001B[0m",
      "\u001B[0;31mAttributeError\u001B[0m                            Traceback (most recent call last)",
      "\u001B[0;32m<ipython-input-43-e03468f2ab26>\u001B[0m in \u001B[0;36m<module>\u001B[0;34m\u001B[0m\n\u001B[1;32m      6\u001B[0m \u001B[0mmodel\u001B[0m\u001B[0;34m.\u001B[0m\u001B[0muserFactors\u001B[0m\u001B[0;34m.\u001B[0m\u001B[0mfilter\u001B[0m\u001B[0;34m(\u001B[0m\u001B[0mmodel\u001B[0m\u001B[0;34m.\u001B[0m\u001B[0muserFactors\u001B[0m\u001B[0;34m[\u001B[0m\u001B[0;34m'id'\u001B[0m\u001B[0;34m]\u001B[0m\u001B[0;34m==\u001B[0m\u001B[0muser_id\u001B[0m\u001B[0;34m)\u001B[0m\u001B[0;34m.\u001B[0m\u001B[0mshow\u001B[0m\u001B[0;34m(\u001B[0m\u001B[0;36m5\u001B[0m\u001B[0;34m)\u001B[0m\u001B[0;34m\u001B[0m\u001B[0;34m\u001B[0m\u001B[0m\n\u001B[1;32m      7\u001B[0m \u001B[0mmodel\u001B[0m\u001B[0;34m.\u001B[0m\u001B[0mitemFactors\u001B[0m\u001B[0;34m.\u001B[0m\u001B[0mfilter\u001B[0m\u001B[0;34m(\u001B[0m\u001B[0mmodel\u001B[0m\u001B[0;34m.\u001B[0m\u001B[0mitemFactors\u001B[0m\u001B[0;34m[\u001B[0m\u001B[0;34m'id'\u001B[0m\u001B[0;34m]\u001B[0m\u001B[0;34m==\u001B[0m\u001B[0mitem_id\u001B[0m\u001B[0;34m)\u001B[0m\u001B[0;34m.\u001B[0m\u001B[0mshow\u001B[0m\u001B[0;34m(\u001B[0m\u001B[0;36m5\u001B[0m\u001B[0;34m)\u001B[0m\u001B[0;34m\u001B[0m\u001B[0;34m\u001B[0m\u001B[0m\n\u001B[0;32m----> 8\u001B[0;31m \u001B[0muser_vector\u001B[0m \u001B[0;34m=\u001B[0m \u001B[0mmodel\u001B[0m\u001B[0;34m.\u001B[0m\u001B[0muserFactors\u001B[0m\u001B[0;34m.\u001B[0m\u001B[0mfilter\u001B[0m\u001B[0;34m(\u001B[0m\u001B[0mmodel\u001B[0m\u001B[0;34m.\u001B[0m\u001B[0muserFactors\u001B[0m\u001B[0;34m[\u001B[0m\u001B[0;34m'id'\u001B[0m\u001B[0;34m]\u001B[0m\u001B[0;34m==\u001B[0m\u001B[0mitem_id\u001B[0m\u001B[0;34m)\u001B[0m\u001B[0;34m.\u001B[0m\u001B[0mflatten\u001B[0m\u001B[0;34m(\u001B[0m\u001B[0;34m)\u001B[0m\u001B[0;34m\u001B[0m\u001B[0;34m\u001B[0m\u001B[0m\n\u001B[0m\u001B[1;32m      9\u001B[0m \u001B[0mitem_vector\u001B[0m  \u001B[0;34m=\u001B[0m \u001B[0mmodel\u001B[0m\u001B[0;34m.\u001B[0m\u001B[0mitemFactors\u001B[0m\u001B[0;34m.\u001B[0m\u001B[0mfilter\u001B[0m\u001B[0;34m(\u001B[0m\u001B[0mmodel\u001B[0m\u001B[0;34m.\u001B[0m\u001B[0mitemFactors\u001B[0m\u001B[0;34m[\u001B[0m\u001B[0;34m'id'\u001B[0m\u001B[0;34m]\u001B[0m\u001B[0;34m==\u001B[0m\u001B[0mitem_id\u001B[0m\u001B[0;34m)\u001B[0m\u001B[0;34m.\u001B[0m\u001B[0mflatten\u001B[0m\u001B[0;34m(\u001B[0m\u001B[0;34m)\u001B[0m\u001B[0;34m\u001B[0m\u001B[0;34m\u001B[0m\u001B[0m\n",
      "\u001B[0;32m~/.conda/envs/M2-fouille-donn-es/lib/python3.8/site-packages/pyspark/sql/dataframe.py\u001B[0m in \u001B[0;36m__getattr__\u001B[0;34m(self, name)\u001B[0m\n\u001B[1;32m   1398\u001B[0m         \"\"\"\n\u001B[1;32m   1399\u001B[0m         \u001B[0;32mif\u001B[0m \u001B[0mname\u001B[0m \u001B[0;32mnot\u001B[0m \u001B[0;32min\u001B[0m \u001B[0mself\u001B[0m\u001B[0;34m.\u001B[0m\u001B[0mcolumns\u001B[0m\u001B[0;34m:\u001B[0m\u001B[0;34m\u001B[0m\u001B[0;34m\u001B[0m\u001B[0m\n\u001B[0;32m-> 1400\u001B[0;31m             raise AttributeError(\n\u001B[0m\u001B[1;32m   1401\u001B[0m                 \"'%s' object has no attribute '%s'\" % (self.__class__.__name__, name))\n\u001B[1;32m   1402\u001B[0m         \u001B[0mjc\u001B[0m \u001B[0;34m=\u001B[0m \u001B[0mself\u001B[0m\u001B[0;34m.\u001B[0m\u001B[0m_jdf\u001B[0m\u001B[0;34m.\u001B[0m\u001B[0mapply\u001B[0m\u001B[0;34m(\u001B[0m\u001B[0mname\u001B[0m\u001B[0;34m)\u001B[0m\u001B[0;34m\u001B[0m\u001B[0;34m\u001B[0m\u001B[0m\n",
      "\u001B[0;31mAttributeError\u001B[0m: 'DataFrame' object has no attribute 'flatten'"
     ]
    }
   ],
   "source": [
    "## todo récupérer un  vecteur de film et un vecteur d'un utilisateur\n",
    "## faire le produit scalaire entre les deux pouyr voir la prédiction\n",
    "## puis faire la même chose  avec spark\n",
    "user_id=50\n",
    "item_id=100\n",
    "model.userFactors.filter(model.userFactors['id']==user_id).collect.show(5)\n",
    "model.itemFactors.filter(model.itemFactors['id']==item_id).show(5)\n",
    "user_vector = model.userFactors.filter(model.userFactors['id']==item_id).flatten()\n",
    "item_vector  = model.itemFactors.filter(model.itemFactors['id']==item_id).flatten()\n",
    "\n",
    "import numpy as np\n",
    "np.dot(user_npy, item_npy)\n",
    "\n",
    "\n",
    "from  pyspark.sql.types import ArrayType,StructField, StructType, StringType, IntegerType, decimalType\n",
    "\n",
    "data=[(10,10)]\n",
    "schema =  StructType([\n",
    "    \n",
    "])\n",
    "model.transform(df).show()"
   ]
  }
 ],
 "metadata": {
  "kernelspec": {
   "display_name": "Python 3",
   "language": "python",
   "name": "python3"
  },
  "language_info": {
   "codemirror_mode": {
    "name": "ipython",
    "version": 3
   },
   "file_extension": ".py",
   "mimetype": "text/x-python",
   "name": "python",
   "nbconvert_exporter": "python",
   "pygments_lexer": "ipython3",
   "version": "3.7.4"
  }
 },
 "nbformat": 4,
 "nbformat_minor": 2
}