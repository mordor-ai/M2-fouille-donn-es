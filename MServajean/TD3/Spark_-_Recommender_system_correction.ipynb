{
  "nbformat": 4,
  "nbformat_minor": 0,
  "metadata": {
    "kernelspec": {
      "display_name": "Python 3",
      "language": "python",
      "name": "python3"
    },
    "language_info": {
      "codemirror_mode": {
        "name": "ipython",
        "version": 3
      },
      "file_extension": ".py",
      "mimetype": "text/x-python",
      "name": "python",
      "nbconvert_exporter": "python",
      "pygments_lexer": "ipython3",
      "version": "3.7.4"
    },
    "colab": {
      "name": "Spark_-_Recommender_system_correction.ipynb",
      "provenance": [],
      "toc_visible": true
    }
  },
  "cells": [
    {
      "cell_type": "markdown",
      "metadata": {
        "id": "eudgeNe4LZBx"
      },
      "source": [
        "# Importing Spark"
      ]
    },
    {
      "cell_type": "code",
      "metadata": {
        "id": "7FMSpVEDLeby",
        "outputId": "a651ee33-0b2c-489a-a4a5-24703cb23fe6",
        "colab": {
          "base_uri": "https://localhost:8080/"
        }
      },
      "source": [
        "from google.colab import drive\r\n",
        "drive.mount('/content/drive')"
      ],
      "execution_count": 1,
      "outputs": [
        {
          "output_type": "stream",
          "text": [
            "Mounted at /content/drive\n"
          ],
          "name": "stdout"
        }
      ]
    },
    {
      "cell_type": "code",
      "metadata": {
        "id": "SjHw8GpaLn5q"
      },
      "source": [
        "!chmod 755  /content/drive/MyDrive/spark-3.0.1-bin-hadoop2.7/bin/*"
      ],
      "execution_count": 2,
      "outputs": []
    },
    {
      "cell_type": "code",
      "metadata": {
        "id": "gDKRDUpDLqQT"
      },
      "source": [
        "!apt-get install openjdk-8-jdk-headless -qq > /dev/null"
      ],
      "execution_count": 3,
      "outputs": []
    },
    {
      "cell_type": "code",
      "metadata": {
        "id": "iHqxkMrALyIg"
      },
      "source": [
        "import os\r\n",
        "os.environ[\"JAVA_HOME\"] = \"/usr/lib/jvm/java-8-openjdk-amd64\"\r\n",
        "os.environ[\"SPARK_HOME\"] = \"/content/drive/MyDrive/spark-3.0.1-bin-hadoop2.7\""
      ],
      "execution_count": 4,
      "outputs": []
    },
    {
      "cell_type": "code",
      "metadata": {
        "id": "gqdLfchrL6mV"
      },
      "source": [
        "!pip install -q findspark"
      ],
      "execution_count": 6,
      "outputs": []
    },
    {
      "cell_type": "code",
      "metadata": {
        "id": "gx_PSnOgLzgk"
      },
      "source": [
        "import findspark\r\n",
        "findspark.init()"
      ],
      "execution_count": 7,
      "outputs": []
    },
    {
      "cell_type": "code",
      "metadata": {
        "id": "lzmqPBsZLZB0"
      },
      "source": [
        "# import findspark\n",
        "# findspark.init()\n",
        "import pyspark\n",
        "from pyspark.sql import SparkSession\n",
        "\n",
        "spark = SparkSession.builder.appName(\"Python Spark\").getOrCreate()\n",
        "sc = spark.sparkContext"
      ],
      "execution_count": 9,
      "outputs": []
    },
    {
      "cell_type": "markdown",
      "metadata": {
        "id": "UZn6fRVdLZB1"
      },
      "source": [
        "# Loading the data"
      ]
    },
    {
      "cell_type": "code",
      "metadata": {
        "id": "4due22aOLZB2"
      },
      "source": [
        "df_ratings = spark.read\\\n",
        "    .option(\"delimiter\", \"\\t\")\\\n",
        "    .option(\"header\", \"true\")\\\n",
        "    .option(\"inferSchema\", \"true\")\\\n",
        "    .csv('/content/drive/MyDrive/data/u.data')"
      ],
      "execution_count": 10,
      "outputs": []
    },
    {
      "cell_type": "markdown",
      "metadata": {
        "id": "71yokksRLZB4"
      },
      "source": [
        "# Exercice 1 - constructing the recommender system"
      ]
    },
    {
      "cell_type": "code",
      "metadata": {
        "id": "_sLVJxgALZB4"
      },
      "source": [
        "from pyspark.ml.evaluation import RegressionEvaluator\n",
        "from pyspark.ml.recommendation import ALS\n",
        "from pyspark.sql import Row"
      ],
      "execution_count": 11,
      "outputs": []
    },
    {
      "cell_type": "code",
      "metadata": {
        "id": "r51KGa9dLZB5",
        "outputId": "0ef5a49c-101d-4ad3-ab18-45b1998e3809",
        "colab": {
          "base_uri": "https://localhost:8080/"
        }
      },
      "source": [
        "df_ratings.printSchema()"
      ],
      "execution_count": 12,
      "outputs": [
        {
          "output_type": "stream",
          "text": [
            "root\n",
            " |-- user_id: integer (nullable = true)\n",
            " |-- item_id: integer (nullable = true)\n",
            " |-- rating: integer (nullable = true)\n",
            " |-- timestamp: integer (nullable = true)\n",
            "\n"
          ],
          "name": "stdout"
        }
      ]
    },
    {
      "cell_type": "code",
      "metadata": {
        "id": "eCur9ZqhLZB6"
      },
      "source": [
        "training, test = df_ratings.randomSplit([0.8, 0.2])"
      ],
      "execution_count": 13,
      "outputs": []
    },
    {
      "cell_type": "code",
      "metadata": {
        "id": "ofyIeQWgLZB7"
      },
      "source": [
        "als = ALS(\n",
        "    maxIter=5, regParam=0.05, userCol=\"user_id\", itemCol=\"item_id\", ratingCol=\"rating\", \n",
        "    coldStartStrategy=\"drop\", rank=10\n",
        ")\n",
        "model = als.fit(training)"
      ],
      "execution_count": 14,
      "outputs": []
    },
    {
      "cell_type": "code",
      "metadata": {
        "id": "O5cSa3eDLZB9"
      },
      "source": [
        "predictions = model.transform(test)\n",
        "evaluator = RegressionEvaluator(\n",
        "    metricName=\"rmse\", labelCol=\"rating\", predictionCol=\"prediction\"\n",
        ")"
      ],
      "execution_count": 15,
      "outputs": []
    },
    {
      "cell_type": "code",
      "metadata": {
        "id": "YtWywKjnLZB9",
        "outputId": "7332edc4-a390-4b0a-fca9-98b95374d047",
        "colab": {
          "base_uri": "https://localhost:8080/"
        }
      },
      "source": [
        "rmse = evaluator.evaluate(predictions)\n",
        "print(\"Root-mean-square error = \" + str(rmse))"
      ],
      "execution_count": 16,
      "outputs": [
        {
          "output_type": "stream",
          "text": [
            "Root-mean-square error = 0.9520318512095949\n"
          ],
          "name": "stdout"
        }
      ]
    },
    {
      "cell_type": "code",
      "metadata": {
        "id": "Cc4DyGldLZCA"
      },
      "source": [
        "# Generate top 10 movie recommendations for each user\n",
        "userRecs = model.recommendForAllUsers(10)\n",
        "# Generate top 10 user recommendations for each movie\n",
        "movieRecs = model.recommendForAllItems(10)"
      ],
      "execution_count": 17,
      "outputs": []
    },
    {
      "cell_type": "code",
      "metadata": {
        "id": "JQ-I2YmnLZCC",
        "outputId": "c668d12f-bcd8-4381-a9a7-388c925900f1",
        "colab": {
          "base_uri": "https://localhost:8080/"
        }
      },
      "source": [
        "userRecs.take(10)"
      ],
      "execution_count": 19,
      "outputs": [
        {
          "output_type": "execute_result",
          "data": {
            "text/plain": [
              "[Row(user_id=471, recommendations=[Row(item_id=1192, rating=7.104902744293213), Row(item_id=1391, rating=7.078414440155029), Row(item_id=1446, rating=6.914592266082764), Row(item_id=1389, rating=6.732880592346191), Row(item_id=1166, rating=6.69061803817749), Row(item_id=776, rating=6.686971187591553), Row(item_id=769, rating=6.648403167724609), Row(item_id=450, rating=6.627342700958252), Row(item_id=884, rating=6.576409816741943), Row(item_id=1155, rating=6.451395034790039)]),\n",
              " Row(user_id=463, recommendations=[Row(item_id=867, rating=4.85713529586792), Row(item_id=697, rating=4.76533317565918), Row(item_id=889, rating=4.761417388916016), Row(item_id=557, rating=4.660772800445557), Row(item_id=59, rating=4.552568435668945), Row(item_id=1131, rating=4.4769287109375), Row(item_id=1005, rating=4.4649553298950195), Row(item_id=61, rating=4.452428817749023), Row(item_id=1623, rating=4.447282791137695), Row(item_id=20, rating=4.4351630210876465)]),\n",
              " Row(user_id=833, recommendations=[Row(item_id=1388, rating=5.096197128295898), Row(item_id=1597, rating=4.95643424987793), Row(item_id=1514, rating=4.906425476074219), Row(item_id=179, rating=4.846482753753662), Row(item_id=1367, rating=4.815249919891357), Row(item_id=1375, rating=4.815121173858643), Row(item_id=1368, rating=4.7624006271362305), Row(item_id=1643, rating=4.725645065307617), Row(item_id=1529, rating=4.629354953765869), Row(item_id=1499, rating=4.531715393066406)]),\n",
              " Row(user_id=496, recommendations=[Row(item_id=115, rating=5.021173000335693), Row(item_id=1240, rating=4.848317623138428), Row(item_id=1170, rating=4.729397773742676), Row(item_id=532, rating=4.664757251739502), Row(item_id=1495, rating=4.664568901062012), Row(item_id=915, rating=4.646991729736328), Row(item_id=175, rating=4.617848873138428), Row(item_id=1110, rating=4.5908989906311035), Row(item_id=56, rating=4.575693130493164), Row(item_id=1001, rating=4.564140319824219)]),\n",
              " Row(user_id=148, recommendations=[Row(item_id=1240, rating=6.865950584411621), Row(item_id=962, rating=6.337681770324707), Row(item_id=1001, rating=5.9172563552856445), Row(item_id=421, rating=5.896909236907959), Row(item_id=512, rating=5.86140251159668), Row(item_id=1426, rating=5.8246026039123535), Row(item_id=1589, rating=5.796332836151123), Row(item_id=1266, rating=5.720678806304932), Row(item_id=113, rating=5.710893630981445), Row(item_id=1006, rating=5.638151168823242)]),\n",
              " Row(user_id=540, recommendations=[Row(item_id=1643, rating=5.498456954956055), Row(item_id=1368, rating=5.335922718048096), Row(item_id=1449, rating=5.113938808441162), Row(item_id=1367, rating=5.090694904327393), Row(item_id=408, rating=5.009305000305176), Row(item_id=745, rating=4.973372459411621), Row(item_id=1642, rating=4.957249641418457), Row(item_id=913, rating=4.957249641418457), Row(item_id=1645, rating=4.957249641418457), Row(item_id=1650, rating=4.957249641418457)]),\n",
              " Row(user_id=392, recommendations=[Row(item_id=1643, rating=6.729442596435547), Row(item_id=1367, rating=5.674736022949219), Row(item_id=1463, rating=5.54348611831665), Row(item_id=1375, rating=5.495530128479004), Row(item_id=1514, rating=5.372105121612549), Row(item_id=959, rating=5.330093860626221), Row(item_id=8, rating=5.288965702056885), Row(item_id=1099, rating=5.245278358459473), Row(item_id=1024, rating=5.161410331726074), Row(item_id=519, rating=5.159153461456299)]),\n",
              " Row(user_id=243, recommendations=[Row(item_id=1099, rating=5.315776824951172), Row(item_id=1643, rating=5.17418909072876), Row(item_id=887, rating=5.097130298614502), Row(item_id=923, rating=4.938627243041992), Row(item_id=1375, rating=4.890249252319336), Row(item_id=1449, rating=4.796001434326172), Row(item_id=1193, rating=4.7126383781433105), Row(item_id=1512, rating=4.682971954345703), Row(item_id=1172, rating=4.633434295654297), Row(item_id=959, rating=4.590159893035889)]),\n",
              " Row(user_id=623, recommendations=[Row(item_id=1643, rating=5.388467788696289), Row(item_id=1463, rating=5.351662635803223), Row(item_id=390, rating=5.150237083435059), Row(item_id=1269, rating=5.03847599029541), Row(item_id=1553, rating=4.940011978149414), Row(item_id=593, rating=4.885549545288086), Row(item_id=485, rating=4.8396406173706055), Row(item_id=172, rating=4.796020030975342), Row(item_id=50, rating=4.78024959564209), Row(item_id=496, rating=4.761312007904053)]),\n",
              " Row(user_id=737, recommendations=[Row(item_id=1368, rating=6.274176120758057), Row(item_id=753, rating=6.029458522796631), Row(item_id=543, rating=5.5933380126953125), Row(item_id=1268, rating=5.57743501663208), Row(item_id=61, rating=5.2463603019714355), Row(item_id=853, rating=5.171393394470215), Row(item_id=192, rating=5.117605209350586), Row(item_id=408, rating=5.109973430633545), Row(item_id=903, rating=5.090607643127441), Row(item_id=1427, rating=5.0788350105285645)])]"
            ]
          },
          "metadata": {
            "tags": []
          },
          "execution_count": 19
        }
      ]
    },
    {
      "cell_type": "code",
      "metadata": {
        "id": "RItEnGRpLZCD"
      },
      "source": [
        "user_npy = model.userFactors.filter('id==10').collect()[0].features"
      ],
      "execution_count": 20,
      "outputs": []
    },
    {
      "cell_type": "code",
      "metadata": {
        "id": "Tmb8LxaLLZCE"
      },
      "source": [
        "item_npy = model.itemFactors.filter('id==10').collect()[0].features"
      ],
      "execution_count": 21,
      "outputs": []
    },
    {
      "cell_type": "code",
      "metadata": {
        "id": "sbDcZ1svLZCE",
        "outputId": "49ec71db-774c-4945-da73-8028c2e5eb76",
        "colab": {
          "base_uri": "https://localhost:8080/"
        }
      },
      "source": [
        "import numpy as np\n",
        "np.dot(user_npy, item_npy)"
      ],
      "execution_count": 22,
      "outputs": [
        {
          "output_type": "execute_result",
          "data": {
            "text/plain": [
              "4.053353155526006"
            ]
          },
          "metadata": {
            "tags": []
          },
          "execution_count": 22
        }
      ]
    },
    {
      "cell_type": "code",
      "metadata": {
        "id": "uh0Qzu0mLZCF"
      },
      "source": [
        "from pyspark.sql.types import ArrayType, StructField,\\\n",
        "StructType, StringType, IntegerType, DecimalType"
      ],
      "execution_count": 23,
      "outputs": []
    },
    {
      "cell_type": "code",
      "metadata": {
        "id": "SrVOAMuHLZCF"
      },
      "source": [
        "data = [(10, 10)]\n",
        "schema = StructType([\n",
        "    StructField('user_id', IntegerType(), True),\n",
        "    StructField('item_id', IntegerType(), True)\n",
        "])\n",
        "\n",
        "df = spark.createDataFrame(spark.sparkContext.parallelize(data),schema)"
      ],
      "execution_count": 24,
      "outputs": []
    },
    {
      "cell_type": "code",
      "metadata": {
        "id": "D5Is7BI3LZCG",
        "outputId": "0a392370-005d-4489-8056-ee4d78265f97",
        "colab": {
          "base_uri": "https://localhost:8080/"
        }
      },
      "source": [
        "model.transform(df).show()"
      ],
      "execution_count": 25,
      "outputs": [
        {
          "output_type": "stream",
          "text": [
            "+-------+-------+----------+\n",
            "|user_id|item_id|prediction|\n",
            "+-------+-------+----------+\n",
            "|     10|     10| 4.0533533|\n",
            "+-------+-------+----------+\n",
            "\n"
          ],
          "name": "stdout"
        }
      ]
    },
    {
      "cell_type": "code",
      "metadata": {
        "id": "SgZC-C1uLZCH"
      },
      "source": [
        ""
      ],
      "execution_count": null,
      "outputs": []
    }
  ]
}